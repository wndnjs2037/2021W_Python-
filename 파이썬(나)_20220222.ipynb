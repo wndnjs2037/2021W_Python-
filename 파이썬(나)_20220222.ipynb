{
  "nbformat": 4,
  "nbformat_minor": 0,
  "metadata": {
    "colab": {
      "name": "파이썬(나)_20220222.ipynb",
      "provenance": [],
      "collapsed_sections": [],
      "authorship_tag": "ABX9TyMYQzLIVK6igH3GAe3KwLHM",
      "include_colab_link": true
    },
    "kernelspec": {
      "name": "python3",
      "display_name": "Python 3"
    },
    "language_info": {
      "name": "python"
    }
  },
  "cells": [
    {
      "cell_type": "markdown",
      "metadata": {
        "id": "view-in-github",
        "colab_type": "text"
      },
      "source": [
        "<a href=\"https://colab.research.google.com/github/wndnjs2037/2021W_Python-/blob/main/%ED%8C%8C%EC%9D%B4%EC%8D%AC(%EB%82%98)_20220222.ipynb\" target=\"_parent\"><img src=\"https://colab.research.google.com/assets/colab-badge.svg\" alt=\"Open In Colab\"/></a>"
      ]
    },
    {
      "cell_type": "code",
      "execution_count": null,
      "metadata": {
        "id": "hG01EEQd8tz8"
      },
      "outputs": [],
      "source": [
        "# !sudo apt-get install -y fonts-nanum\n",
        "# !sudo fc-cache -fv\n",
        "# !rm ~/.cache/matplotlib -rf"
      ]
    },
    {
      "cell_type": "code",
      "source": [
        "import pandas as pd\n",
        "import numpy as np\n",
        "import seaborn as sns\n",
        "import matplotlib.pyplot as plt\n",
        "\n",
        "plt.rc('font', family='NanumGothic')"
      ],
      "metadata": {
        "id": "AQ005yXgGqRH"
      },
      "execution_count": null,
      "outputs": []
    },
    {
      "cell_type": "code",
      "source": [
        "df = pd.read_csv('./seoul1.csv')"
      ],
      "metadata": {
        "id": "Jbv2_yKcHL3d"
      },
      "execution_count": null,
      "outputs": []
    },
    {
      "cell_type": "code",
      "source": [
        "### 결측치 보기\n",
        "df.isnull().mean().plot.barh(figsize=(7,9)) #null 값을 가진 데이터 확인하기"
      ],
      "metadata": {
        "colab": {
          "base_uri": "https://localhost:8080/",
          "height": 554
        },
        "id": "M70e2rP8HU21",
        "outputId": "34121c6c-bc9c-4768-af28-72550800341c"
      },
      "execution_count": null,
      "outputs": [
        {
          "output_type": "execute_result",
          "data": {
            "text/plain": [
              "<matplotlib.axes._subplots.AxesSubplot at 0x7fc31d6147d0>"
            ]
          },
          "metadata": {},
          "execution_count": 4
        },
        {
          "output_type": "display_data",
          "data": {
            "image/png": "[encoded data removed]",
            "text/plain": [
              "<Figure size 504x648 with 1 Axes>"
            ]
          },
          "metadata": {
            "needs_background": "light"
          }
        }
      ]
    },
    {
      "cell_type": "code",
      "source": [
        "### 사용하지 않는 컬럼 제거\n",
        "col = ['상호명', '상권업종대분류명', '시군구명' , '경도', '위도','시도명'] #사용할 컬럼만 저장"
      ],
      "metadata": {
        "id": "oLoylHu5MEpy"
      },
      "execution_count": null,
      "outputs": []
    },
    {
      "cell_type": "code",
      "source": [
        "df = df[col].copy()\n",
        "df.shape"
      ],
      "metadata": {
        "colab": {
          "base_uri": "https://localhost:8080/"
        },
        "id": "JyZ-o8vQMmQD",
        "outputId": "4702b575-2056-4372-83fb-0106c4309a0d"
      },
      "execution_count": null,
      "outputs": [
        {
          "output_type": "execute_result",
          "data": {
            "text/plain": [
              "(315294, 6)"
            ]
          },
          "metadata": {},
          "execution_count": 6
        }
      ]
    },
    {
      "cell_type": "code",
      "source": [
        "df.info()"
      ],
      "metadata": {
        "colab": {
          "base_uri": "https://localhost:8080/"
        },
        "id": "P-4BP0UlMvlx",
        "outputId": "e5c984cb-59ac-4b35-bad2-41c1313f6aa2"
      },
      "execution_count": null,
      "outputs": [
        {
          "output_type": "stream",
          "name": "stdout",
          "text": [
            "<class 'pandas.core.frame.DataFrame'>\n",
            "RangeIndex: 315294 entries, 0 to 315293\n",
            "Data columns (total 6 columns):\n",
            " #   Column    Non-Null Count   Dtype  \n",
            "---  ------    --------------   -----  \n",
            " 0   상호명       315293 non-null  object \n",
            " 1   상권업종대분류명  315294 non-null  object \n",
            " 2   시군구명      315294 non-null  object \n",
            " 3   경도        315294 non-null  float64\n",
            " 4   위도        315294 non-null  float64\n",
            " 5   시도명       315294 non-null  object \n",
            "dtypes: float64(2), object(4)\n",
            "memory usage: 14.4+ MB\n"
          ]
        }
      ]
    },
    {
      "cell_type": "code",
      "source": [
        "### 서울특별시만 가져오기\n",
        "df['시도명'].unique()"
      ],
      "metadata": {
        "colab": {
          "base_uri": "https://localhost:8080/"
        },
        "id": "RaFcnw3VMwzR",
        "outputId": "e5c0bb9e-5793-4b92-e171-a8cf1ebd529a"
      },
      "execution_count": null,
      "outputs": [
        {
          "output_type": "execute_result",
          "data": {
            "text/plain": [
              "array(['서울특별시'], dtype=object)"
            ]
          },
          "metadata": {},
          "execution_count": 8
        }
      ]
    },
    {
      "cell_type": "code",
      "source": [
        "### unique를 사용하여 시군구명을 가져오기\n",
        "df['시군구명'].unique() #중복된 값을 제거하고 하나씩 가져옴"
      ],
      "metadata": {
        "colab": {
          "base_uri": "https://localhost:8080/"
        },
        "id": "iVFI11p5M5Kh",
        "outputId": "d4f7c33a-e1b0-4512-93d5-2e877f6760dd"
      },
      "execution_count": null,
      "outputs": [
        {
          "output_type": "execute_result",
          "data": {
            "text/plain": [
              "array(['영등포구', '성동구', '종로구', '송파구', '서초구', '동작구', '강남구', '마포구', '중랑구',\n",
              "       '은평구', '성북구', '강동구', '양천구', '서대문구', '중구', '광진구', '용산구', '관악구',\n",
              "       '강서구', '노원구', '강북구', '구로구', '금천구', '도봉구', '동대문구'], dtype=object)"
            ]
          },
          "metadata": {},
          "execution_count": 9
        }
      ]
    },
    {
      "cell_type": "code",
      "source": [
        "df['시군구명'].unique().shape #개수 확인 가능"
      ],
      "metadata": {
        "colab": {
          "base_uri": "https://localhost:8080/"
        },
        "id": "3ojT8FNfM_Ri",
        "outputId": "c9a62018-673b-40d5-b3bf-406c2541845d"
      },
      "execution_count": null,
      "outputs": [
        {
          "output_type": "execute_result",
          "data": {
            "text/plain": [
              "(25,)"
            ]
          },
          "metadata": {},
          "execution_count": 10
        }
      ]
    },
    {
      "cell_type": "code",
      "source": [
        "# df = df.drop(['시도명'],  axis=1) #두번 실행하면 오류남"
      ],
      "metadata": {
        "id": "iiw7xSX9NG3x"
      },
      "execution_count": null,
      "outputs": []
    },
    {
      "cell_type": "code",
      "source": [
        "# 상호명을 소문자로 바꾼 값 저장하기\n",
        "df['상호명_소문자'] = df['상호명'].str.lower()"
      ],
      "metadata": {
        "id": "z8ndmqE0NRPB"
      },
      "execution_count": null,
      "outputs": []
    },
    {
      "cell_type": "code",
      "source": [
        "# contains를 사용해서 해당 글자가 있는 row만 가져오기 - 배스킨 베스킨 baskin ...\n",
        "df['상호명_소문자'].str.contains('(배|베)스킨라빈스|baskinrobbins').fillna(False) # |로 or 연산 가능\n",
        "#원하는 행만 True인 시리즈를 만들었다"
      ],
      "metadata": {
        "colab": {
          "base_uri": "https://localhost:8080/"
        },
        "id": "UdIJTkSANxsY",
        "outputId": "49ee1b9f-cd6f-4b51-d954-710393ab6eab"
      },
      "execution_count": null,
      "outputs": [
        {
          "output_type": "stream",
          "name": "stderr",
          "text": [
            "/usr/local/lib/python3.7/dist-packages/ipykernel_launcher.py:2: UserWarning: This pattern has match groups. To actually get the groups, use str.extract.\n",
            "  \n"
          ]
        },
        {
          "output_type": "execute_result",
          "data": {
            "text/plain": [
              "0         False\n",
              "1         False\n",
              "2         False\n",
              "3         False\n",
              "4         False\n",
              "          ...  \n",
              "315289    False\n",
              "315290    False\n",
              "315291    False\n",
              "315292    False\n",
              "315293    False\n",
              "Name: 상호명_소문자, Length: 315294, dtype: bool"
            ]
          },
          "metadata": {},
          "execution_count": 13
        }
      ]
    },
    {
      "cell_type": "code",
      "source": [
        "df.loc[df['상호명_소문자'].str.contains('(배|베)스킨라빈스|baskinrobbins').fillna(False), '상호명_소문자']"
      ],
      "metadata": {
        "colab": {
          "base_uri": "https://localhost:8080/"
        },
        "id": "NXUrcDE1ODlD",
        "outputId": "38d81a8f-35b4-4723-a615-99831008edab"
      },
      "execution_count": null,
      "outputs": [
        {
          "output_type": "stream",
          "name": "stderr",
          "text": [
            "/usr/local/lib/python3.7/dist-packages/ipykernel_launcher.py:1: UserWarning: This pattern has match groups. To actually get the groups, use str.extract.\n",
            "  \"\"\"Entry point for launching an IPython kernel.\n"
          ]
        },
        {
          "output_type": "execute_result",
          "data": {
            "text/plain": [
              "593          배스킨라빈스공릉점\n",
              "2249        배스킨라빈스강남중앙\n",
              "3978          배스킨라빈스31\n",
              "5219      배스킨라빈스31상봉역점\n",
              "5461       배스킨라빈스31서초점\n",
              "              ...     \n",
              "278096          배스킨라빈스\n",
              "279201          배스킨라빈스\n",
              "279648          베스킨라빈스\n",
              "282130        배스킨라빈스31\n",
              "312429          배스킨라빈스\n",
              "Name: 상호명_소문자, Length: 333, dtype: object"
            ]
          },
          "metadata": {},
          "execution_count": 14
        }
      ]
    },
    {
      "cell_type": "code",
      "source": [
        "# 던킨 | dunkin\n",
        "df.loc[df['상호명_소문자'].str.contains('던킨|dunkin').fillna(False), '상호명_소문자'] #fillna를 통해 해당하지 않는 값을 False로 만들어준다"
      ],
      "metadata": {
        "colab": {
          "base_uri": "https://localhost:8080/"
        },
        "id": "5qlwJaxGOt9v",
        "outputId": "782df051-93b5-4a42-d316-ade92dd4d02b"
      },
      "execution_count": null,
      "outputs": [
        {
          "output_type": "execute_result",
          "data": {
            "text/plain": [
              "270       던킨도너츠동대문홈플러스\n",
              "681              던킨도너츠\n",
              "4781             던킨도너츠\n",
              "5050             던킨도너츠\n",
              "10218        던킨도너츠광운대역\n",
              "              ...     \n",
              "259443     던킨도너츠올림픽공원점\n",
              "261871           던킨도너츠\n",
              "264006           던킨도너츠\n",
              "267057              던킨\n",
              "312735              던킨\n",
              "Name: 상호명_소문자, Length: 101, dtype: object"
            ]
          },
          "metadata": {},
          "execution_count": 15
        }
      ]
    },
    {
      "cell_type": "code",
      "source": [
        "# # df 데이터프레임에서 걸러낸 배스킨라빈스 데이터만 가져와서 카피해서 변수에 할당함\n",
        "df_31 = df[df['상호명_소문자'].str.contains('(배|베)스킨라빈스|baskinrobbins|').fillna(False)].copy() #copy한 값을 새로 df_31에 저장"
      ],
      "metadata": {
        "colab": {
          "base_uri": "https://localhost:8080/"
        },
        "id": "VdCXx6h3O96g",
        "outputId": "7bc5db5e-61bb-4f4a-e39c-13532433e58a"
      },
      "execution_count": null,
      "outputs": [
        {
          "output_type": "stream",
          "name": "stderr",
          "text": [
            "/usr/local/lib/python3.7/dist-packages/ipykernel_launcher.py:2: UserWarning: This pattern has match groups. To actually get the groups, use str.extract.\n",
            "  \n"
          ]
        }
      ]
    },
    {
      "cell_type": "code",
      "source": [
        "# 던킨과 배스킨 데이터 합치기\n",
        "df_31 = df[df['상호명_소문자'].str.contains('(베|배)스킨라빈스|baskinrobbins|던킨|dunkin').fillna(False)].copy()"
      ],
      "metadata": {
        "colab": {
          "base_uri": "https://localhost:8080/"
        },
        "id": "BcEbcWhkPXBx",
        "outputId": "5dd0a649-9686-4d72-cdb3-99a3fb28d71e"
      },
      "execution_count": null,
      "outputs": [
        {
          "output_type": "stream",
          "name": "stderr",
          "text": [
            "/usr/local/lib/python3.7/dist-packages/ipykernel_launcher.py:2: UserWarning: This pattern has match groups. To actually get the groups, use str.extract.\n",
            "  \n"
          ]
        }
      ]
    },
    {
      "cell_type": "code",
      "source": [
        "df_31.loc[df_31['상호명_소문자'].str.contains('(배|베)스킨라빈스|baskinrobbins'), '브랜드명'] ='배스킨라빈스' #브랜드명이라는 새로운 컬럼 생성해서 처리함"
      ],
      "metadata": {
        "colab": {
          "base_uri": "https://localhost:8080/"
        },
        "id": "jTtyz050PxxH",
        "outputId": "036fcbbb-7b99-400a-bfd2-70d754ad49af"
      },
      "execution_count": null,
      "outputs": [
        {
          "output_type": "stream",
          "name": "stderr",
          "text": [
            "/usr/local/lib/python3.7/dist-packages/ipykernel_launcher.py:1: UserWarning: This pattern has match groups. To actually get the groups, use str.extract.\n",
            "  \"\"\"Entry point for launching an IPython kernel.\n"
          ]
        }
      ]
    },
    {
      "cell_type": "code",
      "source": [
        "df_31"
      ],
      "metadata": {
        "colab": {
          "base_uri": "https://localhost:8080/",
          "height": 423
        },
        "id": "VOILlFqNRlzX",
        "outputId": "f22cfa1d-806f-4942-a605-7a81b9819e08"
      },
      "execution_count": null,
      "outputs": [
        {
          "output_type": "execute_result",
          "data": {
            "text/html": [
              "\n",
              "  <div id=\"df-d2e4eec3-61f9-43e8-9d56-c6e8fc4b991d\">\n",
              "    <div class=\"colab-df-container\">\n",
              "      <div>\n",
              "<style scoped>\n",
              "    .dataframe tbody tr th:only-of-type {\n",
              "        vertical-align: middle;\n",
              "    }\n",
              "\n",
              "    .dataframe tbody tr th {\n",
              "        vertical-align: top;\n",
              "    }\n",
              "\n",
              "    .dataframe thead th {\n",
              "        text-align: right;\n",
              "    }\n",
              "</style>\n",
              "<table border=\"1\" class=\"dataframe\">\n",
              "  <thead>\n",
              "    <tr style=\"text-align: right;\">\n",
              "      <th></th>\n",
              "      <th>상호명</th>\n",
              "      <th>상권업종대분류명</th>\n",
              "      <th>시군구명</th>\n",
              "      <th>경도</th>\n",
              "      <th>위도</th>\n",
              "      <th>시도명</th>\n",
              "      <th>상호명_소문자</th>\n",
              "      <th>브랜드명</th>\n",
              "    </tr>\n",
              "  </thead>\n",
              "  <tbody>\n",
              "    <tr>\n",
              "      <th>270</th>\n",
              "      <td>던킨도너츠동대문홈플러스</td>\n",
              "      <td>음식</td>\n",
              "      <td>동대문구</td>\n",
              "      <td>127.038754</td>\n",
              "      <td>37.574540</td>\n",
              "      <td>서울특별시</td>\n",
              "      <td>던킨도너츠동대문홈플러스</td>\n",
              "      <td>NaN</td>\n",
              "    </tr>\n",
              "    <tr>\n",
              "      <th>593</th>\n",
              "      <td>배스킨라빈스공릉점</td>\n",
              "      <td>음식</td>\n",
              "      <td>노원구</td>\n",
              "      <td>127.078586</td>\n",
              "      <td>37.627425</td>\n",
              "      <td>서울특별시</td>\n",
              "      <td>배스킨라빈스공릉점</td>\n",
              "      <td>배스킨라빈스</td>\n",
              "    </tr>\n",
              "    <tr>\n",
              "      <th>681</th>\n",
              "      <td>던킨도너츠</td>\n",
              "      <td>음식</td>\n",
              "      <td>중구</td>\n",
              "      <td>126.976613</td>\n",
              "      <td>37.564692</td>\n",
              "      <td>서울특별시</td>\n",
              "      <td>던킨도너츠</td>\n",
              "      <td>NaN</td>\n",
              "    </tr>\n",
              "    <tr>\n",
              "      <th>2249</th>\n",
              "      <td>배스킨라빈스강남중앙</td>\n",
              "      <td>음식</td>\n",
              "      <td>강남구</td>\n",
              "      <td>127.027724</td>\n",
              "      <td>37.499852</td>\n",
              "      <td>서울특별시</td>\n",
              "      <td>배스킨라빈스강남중앙</td>\n",
              "      <td>배스킨라빈스</td>\n",
              "    </tr>\n",
              "    <tr>\n",
              "      <th>3978</th>\n",
              "      <td>배스킨라빈스31</td>\n",
              "      <td>음식</td>\n",
              "      <td>강서구</td>\n",
              "      <td>126.854800</td>\n",
              "      <td>37.558456</td>\n",
              "      <td>서울특별시</td>\n",
              "      <td>배스킨라빈스31</td>\n",
              "      <td>배스킨라빈스</td>\n",
              "    </tr>\n",
              "    <tr>\n",
              "      <th>...</th>\n",
              "      <td>...</td>\n",
              "      <td>...</td>\n",
              "      <td>...</td>\n",
              "      <td>...</td>\n",
              "      <td>...</td>\n",
              "      <td>...</td>\n",
              "      <td>...</td>\n",
              "      <td>...</td>\n",
              "    </tr>\n",
              "    <tr>\n",
              "      <th>279201</th>\n",
              "      <td>배스킨라빈스</td>\n",
              "      <td>음식</td>\n",
              "      <td>강남구</td>\n",
              "      <td>127.101316</td>\n",
              "      <td>37.466798</td>\n",
              "      <td>서울특별시</td>\n",
              "      <td>배스킨라빈스</td>\n",
              "      <td>배스킨라빈스</td>\n",
              "    </tr>\n",
              "    <tr>\n",
              "      <th>279648</th>\n",
              "      <td>베스킨라빈스</td>\n",
              "      <td>음식</td>\n",
              "      <td>구로구</td>\n",
              "      <td>126.891693</td>\n",
              "      <td>37.489986</td>\n",
              "      <td>서울특별시</td>\n",
              "      <td>베스킨라빈스</td>\n",
              "      <td>배스킨라빈스</td>\n",
              "    </tr>\n",
              "    <tr>\n",
              "      <th>282130</th>\n",
              "      <td>배스킨라빈스31</td>\n",
              "      <td>음식</td>\n",
              "      <td>용산구</td>\n",
              "      <td>126.962964</td>\n",
              "      <td>37.539236</td>\n",
              "      <td>서울특별시</td>\n",
              "      <td>배스킨라빈스31</td>\n",
              "      <td>배스킨라빈스</td>\n",
              "    </tr>\n",
              "    <tr>\n",
              "      <th>312429</th>\n",
              "      <td>배스킨라빈스</td>\n",
              "      <td>음식</td>\n",
              "      <td>중랑구</td>\n",
              "      <td>127.080110</td>\n",
              "      <td>37.584637</td>\n",
              "      <td>서울특별시</td>\n",
              "      <td>배스킨라빈스</td>\n",
              "      <td>배스킨라빈스</td>\n",
              "    </tr>\n",
              "    <tr>\n",
              "      <th>312735</th>\n",
              "      <td>던킨</td>\n",
              "      <td>음식</td>\n",
              "      <td>영등포구</td>\n",
              "      <td>126.907838</td>\n",
              "      <td>37.497904</td>\n",
              "      <td>서울특별시</td>\n",
              "      <td>던킨</td>\n",
              "      <td>NaN</td>\n",
              "    </tr>\n",
              "  </tbody>\n",
              "</table>\n",
              "<p>434 rows × 8 columns</p>\n",
              "</div>\n",
              "      <button class=\"colab-df-convert\" onclick=\"convertToInteractive('df-d2e4eec3-61f9-43e8-9d56-c6e8fc4b991d')\"\n",
              "              title=\"Convert this dataframe to an interactive table.\"\n",
              "              style=\"display:none;\">\n",
              "        \n",
              "  <svg xmlns=\"http://www.w3.org/2000/svg\" height=\"24px\"viewBox=\"0 0 24 24\"\n",
              "       width=\"24px\">\n",
              "    <path d=\"M0 0h24v24H0V0z\" fill=\"none\"/>\n",
              "    <path d=\"M18.56 5.44l.94 2.06.94-2.06 2.06-.94-2.06-.94-.94-2.06-.94 2.06-2.06.94zm-11 1L8.5 8.5l.94-2.06 2.06-.94-2.06-.94L8.5 2.5l-.94 2.06-2.06.94zm10 10l.94 2.06.94-2.06 2.06-.94-2.06-.94-.94-2.06-.94 2.06-2.06.94z\"/><path d=\"M17.41 7.96l-1.37-1.37c-.4-.4-.92-.59-1.43-.59-.52 0-1.04.2-1.43.59L10.3 9.45l-7.72 7.72c-.78.78-.78 2.05 0 2.83L4 21.41c.39.39.9.59 1.41.59.51 0 1.02-.2 1.41-.59l7.78-7.78 2.81-2.81c.8-.78.8-2.07 0-2.86zM5.41 20L4 18.59l7.72-7.72 1.47 1.35L5.41 20z\"/>\n",
              "  </svg>\n",
              "      </button>\n",
              "      \n",
              "  <style>\n",
              "    .colab-df-container {\n",
              "      display:flex;\n",
              "      flex-wrap:wrap;\n",
              "      gap: 12px;\n",
              "    }\n",
              "\n",
              "    .colab-df-convert {\n",
              "      background-color: #E8F0FE;\n",
              "      border: none;\n",
              "      border-radius: 50%;\n",
              "      cursor: pointer;\n",
              "      display: none;\n",
              "      fill: #1967D2;\n",
              "      height: 32px;\n",
              "      padding: 0 0 0 0;\n",
              "      width: 32px;\n",
              "    }\n",
              "\n",
              "    .colab-df-convert:hover {\n",
              "      background-color: #E2EBFA;\n",
              "      box-shadow: 0px 1px 2px rgba(60, 64, 67, 0.3), 0px 1px 3px 1px rgba(60, 64, 67, 0.15);\n",
              "      fill: #174EA6;\n",
              "    }\n",
              "\n",
              "    [theme=dark] .colab-df-convert {\n",
              "      background-color: #3B4455;\n",
              "      fill: #D2E3FC;\n",
              "    }\n",
              "\n",
              "    [theme=dark] .colab-df-convert:hover {\n",
              "      background-color: #434B5C;\n",
              "      box-shadow: 0px 1px 3px 1px rgba(0, 0, 0, 0.15);\n",
              "      filter: drop-shadow(0px 1px 2px rgba(0, 0, 0, 0.3));\n",
              "      fill: #FFFFFF;\n",
              "    }\n",
              "  </style>\n",
              "\n",
              "      <script>\n",
              "        const buttonEl =\n",
              "          document.querySelector('#df-d2e4eec3-61f9-43e8-9d56-c6e8fc4b991d button.colab-df-convert');\n",
              "        buttonEl.style.display =\n",
              "          google.colab.kernel.accessAllowed ? 'block' : 'none';\n",
              "\n",
              "        async function convertToInteractive(key) {\n",
              "          const element = document.querySelector('#df-d2e4eec3-61f9-43e8-9d56-c6e8fc4b991d');\n",
              "          const dataTable =\n",
              "            await google.colab.kernel.invokeFunction('convertToInteractive',\n",
              "                                                     [key], {});\n",
              "          if (!dataTable) return;\n",
              "\n",
              "          const docLinkHtml = 'Like what you see? Visit the ' +\n",
              "            '<a target=\"_blank\" href=https://colab.research.google.com/notebooks/data_table.ipynb>data table notebook</a>'\n",
              "            + ' to learn more about interactive tables.';\n",
              "          element.innerHTML = '';\n",
              "          dataTable['output_type'] = 'display_data';\n",
              "          await google.colab.output.renderOutput(dataTable, element);\n",
              "          const docLink = document.createElement('div');\n",
              "          docLink.innerHTML = docLinkHtml;\n",
              "          element.appendChild(docLink);\n",
              "        }\n",
              "      </script>\n",
              "    </div>\n",
              "  </div>\n",
              "  "
            ],
            "text/plain": [
              "                 상호명 상권업종대분류명  시군구명  ...    시도명       상호명_소문자    브랜드명\n",
              "270     던킨도너츠동대문홈플러스       음식  동대문구  ...  서울특별시  던킨도너츠동대문홈플러스     NaN\n",
              "593        배스킨라빈스공릉점       음식   노원구  ...  서울특별시     배스킨라빈스공릉점  배스킨라빈스\n",
              "681            던킨도너츠       음식    중구  ...  서울특별시         던킨도너츠     NaN\n",
              "2249      배스킨라빈스강남중앙       음식   강남구  ...  서울특별시    배스킨라빈스강남중앙  배스킨라빈스\n",
              "3978        배스킨라빈스31       음식   강서구  ...  서울특별시      배스킨라빈스31  배스킨라빈스\n",
              "...              ...      ...   ...  ...    ...           ...     ...\n",
              "279201        배스킨라빈스       음식   강남구  ...  서울특별시        배스킨라빈스  배스킨라빈스\n",
              "279648        베스킨라빈스       음식   구로구  ...  서울특별시        베스킨라빈스  배스킨라빈스\n",
              "282130      배스킨라빈스31       음식   용산구  ...  서울특별시      배스킨라빈스31  배스킨라빈스\n",
              "312429        배스킨라빈스       음식   중랑구  ...  서울특별시        배스킨라빈스  배스킨라빈스\n",
              "312735            던킨       음식  영등포구  ...  서울특별시            던킨     NaN\n",
              "\n",
              "[434 rows x 8 columns]"
            ]
          },
          "metadata": {},
          "execution_count": 19
        }
      ]
    },
    {
      "cell_type": "code",
      "source": [
        "df_31.loc[~df_31['상호명_소문자'].str.contains('(배|베)스킨라빈스|baskinrobbins'), '브랜드명'] ='던킨도나쓰' # 해당 조건에 해당되는 것들을 ~으로 반전하여 반대되는 값 저장"
      ],
      "metadata": {
        "colab": {
          "base_uri": "https://localhost:8080/"
        },
        "id": "-uEKUpEQRxNd",
        "outputId": "3f500db4-f34d-49e1-ee6b-1192712e36d1"
      },
      "execution_count": null,
      "outputs": [
        {
          "output_type": "stream",
          "name": "stderr",
          "text": [
            "/usr/local/lib/python3.7/dist-packages/ipykernel_launcher.py:1: UserWarning: This pattern has match groups. To actually get the groups, use str.extract.\n",
            "  \"\"\"Entry point for launching an IPython kernel.\n"
          ]
        }
      ]
    },
    {
      "cell_type": "code",
      "source": [
        "df_31['브랜드명'] = df_31['브랜드명'].fillna('던킨도너츠') "
      ],
      "metadata": {
        "id": "Rsu5ggpER4be"
      },
      "execution_count": null,
      "outputs": []
    },
    {
      "cell_type": "code",
      "source": [
        "df_31['브랜드명']"
      ],
      "metadata": {
        "colab": {
          "base_uri": "https://localhost:8080/"
        },
        "id": "P8-Ws61cR5j9",
        "outputId": "c0a252dc-c684-44e7-b827-934be15c9845"
      },
      "execution_count": null,
      "outputs": [
        {
          "output_type": "execute_result",
          "data": {
            "text/plain": [
              "270        던킨도나쓰\n",
              "593       배스킨라빈스\n",
              "681        던킨도나쓰\n",
              "2249      배스킨라빈스\n",
              "3978      배스킨라빈스\n",
              "           ...  \n",
              "279201    배스킨라빈스\n",
              "279648    배스킨라빈스\n",
              "282130    배스킨라빈스\n",
              "312429    배스킨라빈스\n",
              "312735     던킨도나쓰\n",
              "Name: 브랜드명, Length: 434, dtype: object"
            ]
          },
          "metadata": {},
          "execution_count": 22
        }
      ]
    },
    {
      "cell_type": "code",
      "source": [
        "# 음식점이 아닐수도 있으니~~ 음식점으로 구분하기\n",
        "df_31['상권업종대분류명'].value_counts()"
      ],
      "metadata": {
        "colab": {
          "base_uri": "https://localhost:8080/"
        },
        "id": "rIBUkacHSWHO",
        "outputId": "6519742e-2b6d-4e48-a6c4-448481fe7dbc"
      },
      "execution_count": null,
      "outputs": [
        {
          "output_type": "execute_result",
          "data": {
            "text/plain": [
              "음식    433\n",
              "소매      1\n",
              "Name: 상권업종대분류명, dtype: int64"
            ]
          },
          "metadata": {},
          "execution_count": 23
        }
      ]
    },
    {
      "cell_type": "code",
      "source": [
        "df_31[df_31['상권업종대분류명'].isin(['소매'])] #소매인 행 가져오기"
      ],
      "metadata": {
        "colab": {
          "base_uri": "https://localhost:8080/",
          "height": 81
        },
        "id": "DGrmOvytUnMN",
        "outputId": "a12b06a7-ac9d-44a4-cbcc-9731401e3e36"
      },
      "execution_count": null,
      "outputs": [
        {
          "output_type": "execute_result",
          "data": {
            "text/html": [
              "\n",
              "  <div id=\"df-0c4c5863-fce5-47d2-9eca-2cf08827d838\">\n",
              "    <div class=\"colab-df-container\">\n",
              "      <div>\n",
              "<style scoped>\n",
              "    .dataframe tbody tr th:only-of-type {\n",
              "        vertical-align: middle;\n",
              "    }\n",
              "\n",
              "    .dataframe tbody tr th {\n",
              "        vertical-align: top;\n",
              "    }\n",
              "\n",
              "    .dataframe thead th {\n",
              "        text-align: right;\n",
              "    }\n",
              "</style>\n",
              "<table border=\"1\" class=\"dataframe\">\n",
              "  <thead>\n",
              "    <tr style=\"text-align: right;\">\n",
              "      <th></th>\n",
              "      <th>상호명</th>\n",
              "      <th>상권업종대분류명</th>\n",
              "      <th>시군구명</th>\n",
              "      <th>경도</th>\n",
              "      <th>위도</th>\n",
              "      <th>시도명</th>\n",
              "      <th>상호명_소문자</th>\n",
              "      <th>브랜드명</th>\n",
              "    </tr>\n",
              "  </thead>\n",
              "  <tbody>\n",
              "    <tr>\n",
              "      <th>156008</th>\n",
              "      <td>배스킨라빈스</td>\n",
              "      <td>소매</td>\n",
              "      <td>강남구</td>\n",
              "      <td>127.029381</td>\n",
              "      <td>37.527375</td>\n",
              "      <td>서울특별시</td>\n",
              "      <td>배스킨라빈스</td>\n",
              "      <td>배스킨라빈스</td>\n",
              "    </tr>\n",
              "  </tbody>\n",
              "</table>\n",
              "</div>\n",
              "      <button class=\"colab-df-convert\" onclick=\"convertToInteractive('df-0c4c5863-fce5-47d2-9eca-2cf08827d838')\"\n",
              "              title=\"Convert this dataframe to an interactive table.\"\n",
              "              style=\"display:none;\">\n",
              "        \n",
              "  <svg xmlns=\"http://www.w3.org/2000/svg\" height=\"24px\"viewBox=\"0 0 24 24\"\n",
              "       width=\"24px\">\n",
              "    <path d=\"M0 0h24v24H0V0z\" fill=\"none\"/>\n",
              "    <path d=\"M18.56 5.44l.94 2.06.94-2.06 2.06-.94-2.06-.94-.94-2.06-.94 2.06-2.06.94zm-11 1L8.5 8.5l.94-2.06 2.06-.94-2.06-.94L8.5 2.5l-.94 2.06-2.06.94zm10 10l.94 2.06.94-2.06 2.06-.94-2.06-.94-.94-2.06-.94 2.06-2.06.94z\"/><path d=\"M17.41 7.96l-1.37-1.37c-.4-.4-.92-.59-1.43-.59-.52 0-1.04.2-1.43.59L10.3 9.45l-7.72 7.72c-.78.78-.78 2.05 0 2.83L4 21.41c.39.39.9.59 1.41.59.51 0 1.02-.2 1.41-.59l7.78-7.78 2.81-2.81c.8-.78.8-2.07 0-2.86zM5.41 20L4 18.59l7.72-7.72 1.47 1.35L5.41 20z\"/>\n",
              "  </svg>\n",
              "      </button>\n",
              "      \n",
              "  <style>\n",
              "    .colab-df-container {\n",
              "      display:flex;\n",
              "      flex-wrap:wrap;\n",
              "      gap: 12px;\n",
              "    }\n",
              "\n",
              "    .colab-df-convert {\n",
              "      background-color: #E8F0FE;\n",
              "      border: none;\n",
              "      border-radius: 50%;\n",
              "      cursor: pointer;\n",
              "      display: none;\n",
              "      fill: #1967D2;\n",
              "      height: 32px;\n",
              "      padding: 0 0 0 0;\n",
              "      width: 32px;\n",
              "    }\n",
              "\n",
              "    .colab-df-convert:hover {\n",
              "      background-color: #E2EBFA;\n",
              "      box-shadow: 0px 1px 2px rgba(60, 64, 67, 0.3), 0px 1px 3px 1px rgba(60, 64, 67, 0.15);\n",
              "      fill: #174EA6;\n",
              "    }\n",
              "\n",
              "    [theme=dark] .colab-df-convert {\n",
              "      background-color: #3B4455;\n",
              "      fill: #D2E3FC;\n",
              "    }\n",
              "\n",
              "    [theme=dark] .colab-df-convert:hover {\n",
              "      background-color: #434B5C;\n",
              "      box-shadow: 0px 1px 3px 1px rgba(0, 0, 0, 0.15);\n",
              "      filter: drop-shadow(0px 1px 2px rgba(0, 0, 0, 0.3));\n",
              "      fill: #FFFFFF;\n",
              "    }\n",
              "  </style>\n",
              "\n",
              "      <script>\n",
              "        const buttonEl =\n",
              "          document.querySelector('#df-0c4c5863-fce5-47d2-9eca-2cf08827d838 button.colab-df-convert');\n",
              "        buttonEl.style.display =\n",
              "          google.colab.kernel.accessAllowed ? 'block' : 'none';\n",
              "\n",
              "        async function convertToInteractive(key) {\n",
              "          const element = document.querySelector('#df-0c4c5863-fce5-47d2-9eca-2cf08827d838');\n",
              "          const dataTable =\n",
              "            await google.colab.kernel.invokeFunction('convertToInteractive',\n",
              "                                                     [key], {});\n",
              "          if (!dataTable) return;\n",
              "\n",
              "          const docLinkHtml = 'Like what you see? Visit the ' +\n",
              "            '<a target=\"_blank\" href=https://colab.research.google.com/notebooks/data_table.ipynb>data table notebook</a>'\n",
              "            + ' to learn more about interactive tables.';\n",
              "          element.innerHTML = '';\n",
              "          dataTable['output_type'] = 'display_data';\n",
              "          await google.colab.output.renderOutput(dataTable, element);\n",
              "          const docLink = document.createElement('div');\n",
              "          docLink.innerHTML = docLinkHtml;\n",
              "          element.appendChild(docLink);\n",
              "        }\n",
              "      </script>\n",
              "    </div>\n",
              "  </div>\n",
              "  "
            ],
            "text/plain": [
              "           상호명 상권업종대분류명 시군구명          경도         위도    시도명 상호명_소문자    브랜드명\n",
              "156008  배스킨라빈스       소매  강남구  127.029381  37.527375  서울특별시  배스킨라빈스  배스킨라빈스"
            ]
          },
          "metadata": {},
          "execution_count": 24
        }
      ]
    },
    {
      "cell_type": "code",
      "source": [
        "df_31 = df_31[~df_31['상권업종대분류명'].isin(['소매'])].copy()"
      ],
      "metadata": {
        "id": "3Nf2cQ5kUx4e"
      },
      "execution_count": null,
      "outputs": []
    },
    {
      "cell_type": "code",
      "source": [
        "df_31['상권업종대분류명'].value_counts()"
      ],
      "metadata": {
        "colab": {
          "base_uri": "https://localhost:8080/"
        },
        "id": "ZxuBFY0xVAZ9",
        "outputId": "2ef48afa-d10d-4e9e-a6a9-ae73d068189e"
      },
      "execution_count": null,
      "outputs": [
        {
          "output_type": "execute_result",
          "data": {
            "text/plain": [
              "음식    433\n",
              "Name: 상권업종대분류명, dtype: int64"
            ]
          },
          "metadata": {},
          "execution_count": 26
        }
      ]
    },
    {
      "cell_type": "code",
      "source": [
        "# normalize로 빈도수 비율 구하기\n",
        "df_31['브랜드명'].value_counts(normalize=True).plot.barh()"
      ],
      "metadata": {
        "colab": {
          "base_uri": "https://localhost:8080/",
          "height": 282
        },
        "id": "q8GOFhlJVHFt",
        "outputId": "6fc7cb88-1231-402d-f2df-4c1f5a63cc56"
      },
      "execution_count": null,
      "outputs": [
        {
          "output_type": "execute_result",
          "data": {
            "text/plain": [
              "<matplotlib.axes._subplots.AxesSubplot at 0x7fc31d4fc090>"
            ]
          },
          "metadata": {},
          "execution_count": 27
        },
        {
          "output_type": "display_data",
          "data": {
            "image/png": "[encoded data removed]",
            "text/plain": [
              "<Figure size 432x288 with 1 Axes>"
            ]
          },
          "metadata": {
            "needs_background": "light"
          }
        }
      ]
    },
    {
      "cell_type": "code",
      "source": [
        "brand_count = df_31['브랜드명'].value_counts()\n",
        "brand_count # 시리즈의 인덱스가 배스킨 턴킨으로 구성되어있음"
      ],
      "metadata": {
        "colab": {
          "base_uri": "https://localhost:8080/"
        },
        "id": "WGJhMKpHVXSM",
        "outputId": "99d17dd4-1d89-48aa-9698-a740d98fb3bd"
      },
      "execution_count": null,
      "outputs": [
        {
          "output_type": "execute_result",
          "data": {
            "text/plain": [
              "배스킨라빈스    332\n",
              "던킨도나쓰     101\n",
              "Name: 브랜드명, dtype: int64"
            ]
          },
          "metadata": {},
          "execution_count": 29
        }
      ]
    },
    {
      "cell_type": "code",
      "source": [
        "# countplot 그리기\n",
        "g = sns.countplot(data=df_31, x='브랜드명', order=brand_count.index)\n",
        "for i, val in enumerate(brand_count.index):\n",
        "  g.text(x=i, y=brand_count[i], s=brand_count[i])"
      ],
      "metadata": {
        "colab": {
          "base_uri": "https://localhost:8080/",
          "height": 278
        },
        "id": "63DX4kfqVu67",
        "outputId": "23705372-45be-4e6a-a68d-5a9c6b981f89"
      },
      "execution_count": null,
      "outputs": [
        {
          "output_type": "display_data",
          "data": {
            "image/png": "[encoded data removed]",
            "text/plain": [
              "<Figure size 432x288 with 1 Axes>"
            ]
          },
          "metadata": {
            "needs_background": "light"
          }
        }
      ]
    },
    {
      "cell_type": "code",
      "source": [
        "# 시군구명으로 빈도수를 세고 브랜드명으로 색상을 다르게 표현하는 countplot 그리기\n",
        "plt.figure(figsize=(15,4))\n",
        "g = sns.countplot(data=df_31, x='시군구명', hue='브랜드명')"
      ],
      "metadata": {
        "colab": {
          "base_uri": "https://localhost:8080/",
          "height": 279
        },
        "id": "7FQo9U8lV6G6",
        "outputId": "a33ca581-ba99-454c-8532-5348794f9e83"
      },
      "execution_count": null,
      "outputs": [
        {
          "output_type": "display_data",
          "data": {
            "image/png": "[encoded data removed]",
            "text/plain": [
              "<Figure size 1080x288 with 1 Axes>"
            ]
          },
          "metadata": {
            "needs_background": "light"
          }
        }
      ]
    },
    {
      "cell_type": "code",
      "source": [
        "table_city_brand = df_31.pivot_table(index='시군구명', columns='브랜드명', values='상호명', aggfunc='count')\n",
        "table_city_brand"
      ],
      "metadata": {
        "colab": {
          "base_uri": "https://localhost:8080/",
          "height": 865
        },
        "id": "kBLjHJhgWhZ9",
        "outputId": "897e9283-a4cd-4ac4-d4f2-bb8684ced76d"
      },
      "execution_count": null,
      "outputs": [
        {
          "output_type": "execute_result",
          "data": {
            "text/html": [
              "\n",
              "  <div id=\"df-cbf70f09-00a0-4b87-9fbf-2089712f42c9\">\n",
              "    <div class=\"colab-df-container\">\n",
              "      <div>\n",
              "<style scoped>\n",
              "    .dataframe tbody tr th:only-of-type {\n",
              "        vertical-align: middle;\n",
              "    }\n",
              "\n",
              "    .dataframe tbody tr th {\n",
              "        vertical-align: top;\n",
              "    }\n",
              "\n",
              "    .dataframe thead th {\n",
              "        text-align: right;\n",
              "    }\n",
              "</style>\n",
              "<table border=\"1\" class=\"dataframe\">\n",
              "  <thead>\n",
              "    <tr style=\"text-align: right;\">\n",
              "      <th>브랜드명</th>\n",
              "      <th>던킨도나쓰</th>\n",
              "      <th>배스킨라빈스</th>\n",
              "    </tr>\n",
              "    <tr>\n",
              "      <th>시군구명</th>\n",
              "      <th></th>\n",
              "      <th></th>\n",
              "    </tr>\n",
              "  </thead>\n",
              "  <tbody>\n",
              "    <tr>\n",
              "      <th>강남구</th>\n",
              "      <td>11.0</td>\n",
              "      <td>19.0</td>\n",
              "    </tr>\n",
              "    <tr>\n",
              "      <th>강동구</th>\n",
              "      <td>3.0</td>\n",
              "      <td>17.0</td>\n",
              "    </tr>\n",
              "    <tr>\n",
              "      <th>강북구</th>\n",
              "      <td>3.0</td>\n",
              "      <td>9.0</td>\n",
              "    </tr>\n",
              "    <tr>\n",
              "      <th>강서구</th>\n",
              "      <td>6.0</td>\n",
              "      <td>15.0</td>\n",
              "    </tr>\n",
              "    <tr>\n",
              "      <th>관악구</th>\n",
              "      <td>2.0</td>\n",
              "      <td>11.0</td>\n",
              "    </tr>\n",
              "    <tr>\n",
              "      <th>광진구</th>\n",
              "      <td>3.0</td>\n",
              "      <td>17.0</td>\n",
              "    </tr>\n",
              "    <tr>\n",
              "      <th>구로구</th>\n",
              "      <td>4.0</td>\n",
              "      <td>15.0</td>\n",
              "    </tr>\n",
              "    <tr>\n",
              "      <th>금천구</th>\n",
              "      <td>NaN</td>\n",
              "      <td>8.0</td>\n",
              "    </tr>\n",
              "    <tr>\n",
              "      <th>노원구</th>\n",
              "      <td>10.0</td>\n",
              "      <td>23.0</td>\n",
              "    </tr>\n",
              "    <tr>\n",
              "      <th>도봉구</th>\n",
              "      <td>1.0</td>\n",
              "      <td>6.0</td>\n",
              "    </tr>\n",
              "    <tr>\n",
              "      <th>동대문구</th>\n",
              "      <td>4.0</td>\n",
              "      <td>7.0</td>\n",
              "    </tr>\n",
              "    <tr>\n",
              "      <th>동작구</th>\n",
              "      <td>3.0</td>\n",
              "      <td>11.0</td>\n",
              "    </tr>\n",
              "    <tr>\n",
              "      <th>마포구</th>\n",
              "      <td>5.0</td>\n",
              "      <td>9.0</td>\n",
              "    </tr>\n",
              "    <tr>\n",
              "      <th>서대문구</th>\n",
              "      <td>1.0</td>\n",
              "      <td>12.0</td>\n",
              "    </tr>\n",
              "    <tr>\n",
              "      <th>서초구</th>\n",
              "      <td>7.0</td>\n",
              "      <td>29.0</td>\n",
              "    </tr>\n",
              "    <tr>\n",
              "      <th>성동구</th>\n",
              "      <td>1.0</td>\n",
              "      <td>9.0</td>\n",
              "    </tr>\n",
              "    <tr>\n",
              "      <th>성북구</th>\n",
              "      <td>3.0</td>\n",
              "      <td>14.0</td>\n",
              "    </tr>\n",
              "    <tr>\n",
              "      <th>송파구</th>\n",
              "      <td>4.0</td>\n",
              "      <td>20.0</td>\n",
              "    </tr>\n",
              "    <tr>\n",
              "      <th>양천구</th>\n",
              "      <td>5.0</td>\n",
              "      <td>16.0</td>\n",
              "    </tr>\n",
              "    <tr>\n",
              "      <th>영등포구</th>\n",
              "      <td>5.0</td>\n",
              "      <td>13.0</td>\n",
              "    </tr>\n",
              "    <tr>\n",
              "      <th>용산구</th>\n",
              "      <td>4.0</td>\n",
              "      <td>14.0</td>\n",
              "    </tr>\n",
              "    <tr>\n",
              "      <th>은평구</th>\n",
              "      <td>3.0</td>\n",
              "      <td>15.0</td>\n",
              "    </tr>\n",
              "    <tr>\n",
              "      <th>종로구</th>\n",
              "      <td>4.0</td>\n",
              "      <td>7.0</td>\n",
              "    </tr>\n",
              "    <tr>\n",
              "      <th>중구</th>\n",
              "      <td>8.0</td>\n",
              "      <td>5.0</td>\n",
              "    </tr>\n",
              "    <tr>\n",
              "      <th>중랑구</th>\n",
              "      <td>1.0</td>\n",
              "      <td>11.0</td>\n",
              "    </tr>\n",
              "  </tbody>\n",
              "</table>\n",
              "</div>\n",
              "      <button class=\"colab-df-convert\" onclick=\"convertToInteractive('df-cbf70f09-00a0-4b87-9fbf-2089712f42c9')\"\n",
              "              title=\"Convert this dataframe to an interactive table.\"\n",
              "              style=\"display:none;\">\n",
              "        \n",
              "  <svg xmlns=\"http://www.w3.org/2000/svg\" height=\"24px\"viewBox=\"0 0 24 24\"\n",
              "       width=\"24px\">\n",
              "    <path d=\"M0 0h24v24H0V0z\" fill=\"none\"/>\n",
              "    <path d=\"M18.56 5.44l.94 2.06.94-2.06 2.06-.94-2.06-.94-.94-2.06-.94 2.06-2.06.94zm-11 1L8.5 8.5l.94-2.06 2.06-.94-2.06-.94L8.5 2.5l-.94 2.06-2.06.94zm10 10l.94 2.06.94-2.06 2.06-.94-2.06-.94-.94-2.06-.94 2.06-2.06.94z\"/><path d=\"M17.41 7.96l-1.37-1.37c-.4-.4-.92-.59-1.43-.59-.52 0-1.04.2-1.43.59L10.3 9.45l-7.72 7.72c-.78.78-.78 2.05 0 2.83L4 21.41c.39.39.9.59 1.41.59.51 0 1.02-.2 1.41-.59l7.78-7.78 2.81-2.81c.8-.78.8-2.07 0-2.86zM5.41 20L4 18.59l7.72-7.72 1.47 1.35L5.41 20z\"/>\n",
              "  </svg>\n",
              "      </button>\n",
              "      \n",
              "  <style>\n",
              "    .colab-df-container {\n",
              "      display:flex;\n",
              "      flex-wrap:wrap;\n",
              "      gap: 12px;\n",
              "    }\n",
              "\n",
              "    .colab-df-convert {\n",
              "      background-color: #E8F0FE;\n",
              "      border: none;\n",
              "      border-radius: 50%;\n",
              "      cursor: pointer;\n",
              "      display: none;\n",
              "      fill: #1967D2;\n",
              "      height: 32px;\n",
              "      padding: 0 0 0 0;\n",
              "      width: 32px;\n",
              "    }\n",
              "\n",
              "    .colab-df-convert:hover {\n",
              "      background-color: #E2EBFA;\n",
              "      box-shadow: 0px 1px 2px rgba(60, 64, 67, 0.3), 0px 1px 3px 1px rgba(60, 64, 67, 0.15);\n",
              "      fill: #174EA6;\n",
              "    }\n",
              "\n",
              "    [theme=dark] .colab-df-convert {\n",
              "      background-color: #3B4455;\n",
              "      fill: #D2E3FC;\n",
              "    }\n",
              "\n",
              "    [theme=dark] .colab-df-convert:hover {\n",
              "      background-color: #434B5C;\n",
              "      box-shadow: 0px 1px 3px 1px rgba(0, 0, 0, 0.15);\n",
              "      filter: drop-shadow(0px 1px 2px rgba(0, 0, 0, 0.3));\n",
              "      fill: #FFFFFF;\n",
              "    }\n",
              "  </style>\n",
              "\n",
              "      <script>\n",
              "        const buttonEl =\n",
              "          document.querySelector('#df-cbf70f09-00a0-4b87-9fbf-2089712f42c9 button.colab-df-convert');\n",
              "        buttonEl.style.display =\n",
              "          google.colab.kernel.accessAllowed ? 'block' : 'none';\n",
              "\n",
              "        async function convertToInteractive(key) {\n",
              "          const element = document.querySelector('#df-cbf70f09-00a0-4b87-9fbf-2089712f42c9');\n",
              "          const dataTable =\n",
              "            await google.colab.kernel.invokeFunction('convertToInteractive',\n",
              "                                                     [key], {});\n",
              "          if (!dataTable) return;\n",
              "\n",
              "          const docLinkHtml = 'Like what you see? Visit the ' +\n",
              "            '<a target=\"_blank\" href=https://colab.research.google.com/notebooks/data_table.ipynb>data table notebook</a>'\n",
              "            + ' to learn more about interactive tables.';\n",
              "          element.innerHTML = '';\n",
              "          dataTable['output_type'] = 'display_data';\n",
              "          await google.colab.output.renderOutput(dataTable, element);\n",
              "          const docLink = document.createElement('div');\n",
              "          docLink.innerHTML = docLinkHtml;\n",
              "          element.appendChild(docLink);\n",
              "        }\n",
              "      </script>\n",
              "    </div>\n",
              "  </div>\n",
              "  "
            ],
            "text/plain": [
              "브랜드명  던킨도나쓰  배스킨라빈스\n",
              "시군구명               \n",
              "강남구    11.0    19.0\n",
              "강동구     3.0    17.0\n",
              "강북구     3.0     9.0\n",
              "강서구     6.0    15.0\n",
              "관악구     2.0    11.0\n",
              "광진구     3.0    17.0\n",
              "구로구     4.0    15.0\n",
              "금천구     NaN     8.0\n",
              "노원구    10.0    23.0\n",
              "도봉구     1.0     6.0\n",
              "동대문구    4.0     7.0\n",
              "동작구     3.0    11.0\n",
              "마포구     5.0     9.0\n",
              "서대문구    1.0    12.0\n",
              "서초구     7.0    29.0\n",
              "성동구     1.0     9.0\n",
              "성북구     3.0    14.0\n",
              "송파구     4.0    20.0\n",
              "양천구     5.0    16.0\n",
              "영등포구    5.0    13.0\n",
              "용산구     4.0    14.0\n",
              "은평구     3.0    15.0\n",
              "종로구     4.0     7.0\n",
              "중구      8.0     5.0\n",
              "중랑구     1.0    11.0"
            ]
          },
          "metadata": {},
          "execution_count": 37
        }
      ]
    },
    {
      "cell_type": "code",
      "source": [
        "# 데이터프레임을 row 순서로 순회하는 방법\n",
        "for i, val in table_city_brand.iterrows():\n",
        "  dunkin = val['던킨도나쓰']\n",
        "  baskin = val['배스킨라빈스']\n",
        "  print(dunkin, baskin)"
      ],
      "metadata": {
        "colab": {
          "base_uri": "https://localhost:8080/"
        },
        "id": "liDpdBlTWzm7",
        "outputId": "ae7b620f-d317-4592-cc6d-dd34a88a7178"
      },
      "execution_count": null,
      "outputs": [
        {
          "output_type": "stream",
          "name": "stdout",
          "text": [
            "11.0 19.0\n",
            "3.0 17.0\n",
            "3.0 9.0\n",
            "6.0 15.0\n",
            "2.0 11.0\n",
            "3.0 17.0\n",
            "4.0 15.0\n",
            "nan 8.0\n",
            "10.0 23.0\n",
            "1.0 6.0\n",
            "4.0 7.0\n",
            "3.0 11.0\n",
            "5.0 9.0\n",
            "1.0 12.0\n",
            "7.0 29.0\n",
            "1.0 9.0\n",
            "3.0 14.0\n",
            "4.0 20.0\n",
            "5.0 16.0\n",
            "5.0 13.0\n",
            "4.0 14.0\n",
            "3.0 15.0\n",
            "4.0 7.0\n",
            "8.0 5.0\n",
            "1.0 11.0\n"
          ]
        }
      ]
    },
    {
      "cell_type": "code",
      "source": [
        "plt.figure(figsize=(15,4))\n",
        "g = sns.countplot(data=df_31, x='시군구명', hue='브랜드명', order=table_city_brand.index)\n",
        "\n",
        "index_no=0\n",
        "for city, val in table_city_brand.iterrows():\n",
        "  dunkin = val['던킨도나쓰']\n",
        "  baskin = val['배스킨라빈스']\n",
        "  g.text(x=index_no, y=dunkin, s = dunkin)\n",
        "  g.text(x=index_no, y=baskin, s = baskin)\n",
        "  index_no+=1\n",
        "  "
      ],
      "metadata": {
        "colab": {
          "base_uri": "https://localhost:8080/",
          "height": 334
        },
        "id": "eJ6ZAXVMXLoK",
        "outputId": "604d3303-7d2c-4cfa-bb34-f07162e0403c"
      },
      "execution_count": null,
      "outputs": [
        {
          "output_type": "stream",
          "name": "stderr",
          "text": [
            "posx and posy should be finite values\n",
            "posx and posy should be finite values\n",
            "posx and posy should be finite values\n"
          ]
        },
        {
          "output_type": "display_data",
          "data": {
            "image/png": "[encoded data removed]",
            "text/plain": [
              "<Figure size 1080x288 with 1 Axes>"
            ]
          },
          "metadata": {
            "needs_background": "light"
          }
        }
      ]
    },
    {
      "cell_type": "code",
      "source": [
        "### scatterplot\n",
        "df_31[['위도', '경도']].plot.scatter(x='경도', y='위도')"
      ],
      "metadata": {
        "colab": {
          "base_uri": "https://localhost:8080/",
          "height": 296
        },
        "id": "gzZn0xkvXelr",
        "outputId": "e1aab9c9-0ef0-42f3-ef8e-a5a8bf12022d"
      },
      "execution_count": null,
      "outputs": [
        {
          "output_type": "execute_result",
          "data": {
            "text/plain": [
              "<matplotlib.axes._subplots.AxesSubplot at 0x7fc3223b2cd0>"
            ]
          },
          "metadata": {},
          "execution_count": 43
        },
        {
          "output_type": "display_data",
          "data": {
            "image/png": "[encoded data removed]",
            "text/plain": [
              "<Figure size 432x288 with 1 Axes>"
            ]
          },
          "metadata": {
            "needs_background": "light"
          }
        }
      ]
    },
    {
      "cell_type": "code",
      "source": [
        "# seaborn의 scatterplot으로 hue에 브랜드명을 지정해서 시각화하기\n",
        "sns.scatterplot(data=df_31, x='경도', y='위도', hue='브랜드명')"
      ],
      "metadata": {
        "colab": {
          "base_uri": "https://localhost:8080/",
          "height": 296
        },
        "id": "gJQVxLo-afH2",
        "outputId": "e2e740b6-d5bc-424d-8296-a343ae8bc656"
      },
      "execution_count": null,
      "outputs": [
        {
          "output_type": "execute_result",
          "data": {
            "text/plain": [
              "<matplotlib.axes._subplots.AxesSubplot at 0x7fc322b60690>"
            ]
          },
          "metadata": {},
          "execution_count": 44
        },
        {
          "output_type": "display_data",
          "data": {
            "image/png": "[encoded data removed]",
            "text/plain": [
              "<Figure size 432x288 with 1 Axes>"
            ]
          },
          "metadata": {
            "needs_background": "light"
          }
        }
      ]
    },
    {
      "cell_type": "code",
      "source": [
        "# jointplot kind = 'hex'\n",
        "sns.jointplot(data=df_31, x='경도', y='위도', kind='hex')"
      ],
      "metadata": {
        "colab": {
          "base_uri": "https://localhost:8080/",
          "height": 459
        },
        "id": "tOY_LiZFarQH",
        "outputId": "0f0f556d-a926-479f-8ca0-b0cd12d5d8df"
      },
      "execution_count": null,
      "outputs": [
        {
          "output_type": "execute_result",
          "data": {
            "text/plain": [
              "<seaborn.axisgrid.JointGrid at 0x7fc32279c9d0>"
            ]
          },
          "metadata": {},
          "execution_count": 45
        },
        {
          "output_type": "display_data",
          "data": {
            "image/png": "[encoded data removed]",
            "text/plain": [
              "<Figure size 432x432 with 3 Axes>"
            ]
          },
          "metadata": {
            "needs_background": "light"
          }
        }
      ]
    },
    {
      "cell_type": "code",
      "source": [
        "### 지도그리깅"
      ],
      "metadata": {
        "id": "HMCrgxfca2Q0"
      },
      "execution_count": null,
      "outputs": []
    }
  ]
}